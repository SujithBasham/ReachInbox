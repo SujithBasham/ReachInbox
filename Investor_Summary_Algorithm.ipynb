{
  "nbformat": 4,
  "nbformat_minor": 0,
  "metadata": {
    "colab": {
      "provenance": [],
      "authorship_tag": "ABX9TyN35rxxrhwpLrGMkh+JbRfv",
      "include_colab_link": true
    },
    "kernelspec": {
      "name": "python3",
      "display_name": "Python 3"
    },
    "language_info": {
      "name": "python"
    }
  },
  "cells": [
    {
      "cell_type": "markdown",
      "metadata": {
        "id": "view-in-github",
        "colab_type": "text"
      },
      "source": [
        "<a href=\"https://colab.research.google.com/github/SujithBasham/ReachInbox/blob/main/Investor_Summary_Algorithm.ipynb\" target=\"_parent\"><img src=\"https://colab.research.google.com/assets/colab-badge.svg\" alt=\"Open In Colab\"/></a>"
      ]
    },
    {
      "cell_type": "code",
      "execution_count": 1,
      "metadata": {
        "colab": {
          "base_uri": "https://localhost:8080/"
        },
        "id": "kyMqO39Wuog-",
        "outputId": "257cfafb-baa8-4d55-e5af-c7d5962fc4a8"
      },
      "outputs": [
        {
          "output_type": "stream",
          "name": "stdout",
          "text": [
            "Collecting pdfplumber\n",
            "  Downloading pdfplumber-0.11.4-py3-none-any.whl.metadata (41 kB)\n",
            "\u001b[?25l     \u001b[90m━━━━━━━━━━━━━━━━━━━━━━━━━━━━━━━━━━━━━━━━\u001b[0m \u001b[32m0.0/42.0 kB\u001b[0m \u001b[31m?\u001b[0m eta \u001b[36m-:--:--\u001b[0m\r\u001b[2K     \u001b[90m━━━━━━━━━━━━━━━━━━━━━━━━━━━━━━━━━━━━━━━━\u001b[0m \u001b[32m42.0/42.0 kB\u001b[0m \u001b[31m1.8 MB/s\u001b[0m eta \u001b[36m0:00:00\u001b[0m\n",
            "\u001b[?25hRequirement already satisfied: transformers in /usr/local/lib/python3.10/dist-packages (4.44.2)\n",
            "Collecting pdfminer.six==20231228 (from pdfplumber)\n",
            "  Downloading pdfminer.six-20231228-py3-none-any.whl.metadata (4.2 kB)\n",
            "Requirement already satisfied: Pillow>=9.1 in /usr/local/lib/python3.10/dist-packages (from pdfplumber) (10.4.0)\n",
            "Collecting pypdfium2>=4.18.0 (from pdfplumber)\n",
            "  Downloading pypdfium2-4.30.0-py3-none-manylinux_2_17_x86_64.manylinux2014_x86_64.whl.metadata (48 kB)\n",
            "\u001b[2K     \u001b[90m━━━━━━━━━━━━━━━━━━━━━━━━━━━━━━━━━━━━━━━━\u001b[0m \u001b[32m48.5/48.5 kB\u001b[0m \u001b[31m1.5 MB/s\u001b[0m eta \u001b[36m0:00:00\u001b[0m\n",
            "\u001b[?25hRequirement already satisfied: charset-normalizer>=2.0.0 in /usr/local/lib/python3.10/dist-packages (from pdfminer.six==20231228->pdfplumber) (3.4.0)\n",
            "Requirement already satisfied: cryptography>=36.0.0 in /usr/local/lib/python3.10/dist-packages (from pdfminer.six==20231228->pdfplumber) (43.0.3)\n",
            "Requirement already satisfied: filelock in /usr/local/lib/python3.10/dist-packages (from transformers) (3.16.1)\n",
            "Requirement already satisfied: huggingface-hub<1.0,>=0.23.2 in /usr/local/lib/python3.10/dist-packages (from transformers) (0.24.7)\n",
            "Requirement already satisfied: numpy>=1.17 in /usr/local/lib/python3.10/dist-packages (from transformers) (1.26.4)\n",
            "Requirement already satisfied: packaging>=20.0 in /usr/local/lib/python3.10/dist-packages (from transformers) (24.1)\n",
            "Requirement already satisfied: pyyaml>=5.1 in /usr/local/lib/python3.10/dist-packages (from transformers) (6.0.2)\n",
            "Requirement already satisfied: regex!=2019.12.17 in /usr/local/lib/python3.10/dist-packages (from transformers) (2024.9.11)\n",
            "Requirement already satisfied: requests in /usr/local/lib/python3.10/dist-packages (from transformers) (2.32.3)\n",
            "Requirement already satisfied: safetensors>=0.4.1 in /usr/local/lib/python3.10/dist-packages (from transformers) (0.4.5)\n",
            "Requirement already satisfied: tokenizers<0.20,>=0.19 in /usr/local/lib/python3.10/dist-packages (from transformers) (0.19.1)\n",
            "Requirement already satisfied: tqdm>=4.27 in /usr/local/lib/python3.10/dist-packages (from transformers) (4.66.6)\n",
            "Requirement already satisfied: fsspec>=2023.5.0 in /usr/local/lib/python3.10/dist-packages (from huggingface-hub<1.0,>=0.23.2->transformers) (2024.10.0)\n",
            "Requirement already satisfied: typing-extensions>=3.7.4.3 in /usr/local/lib/python3.10/dist-packages (from huggingface-hub<1.0,>=0.23.2->transformers) (4.12.2)\n",
            "Requirement already satisfied: idna<4,>=2.5 in /usr/local/lib/python3.10/dist-packages (from requests->transformers) (3.10)\n",
            "Requirement already satisfied: urllib3<3,>=1.21.1 in /usr/local/lib/python3.10/dist-packages (from requests->transformers) (2.2.3)\n",
            "Requirement already satisfied: certifi>=2017.4.17 in /usr/local/lib/python3.10/dist-packages (from requests->transformers) (2024.8.30)\n",
            "Requirement already satisfied: cffi>=1.12 in /usr/local/lib/python3.10/dist-packages (from cryptography>=36.0.0->pdfminer.six==20231228->pdfplumber) (1.17.1)\n",
            "Requirement already satisfied: pycparser in /usr/local/lib/python3.10/dist-packages (from cffi>=1.12->cryptography>=36.0.0->pdfminer.six==20231228->pdfplumber) (2.22)\n",
            "Downloading pdfplumber-0.11.4-py3-none-any.whl (59 kB)\n",
            "\u001b[2K   \u001b[90m━━━━━━━━━━━━━━━━━━━━━━━━━━━━━━━━━━━━━━━━\u001b[0m \u001b[32m59.2/59.2 kB\u001b[0m \u001b[31m2.0 MB/s\u001b[0m eta \u001b[36m0:00:00\u001b[0m\n",
            "\u001b[?25hDownloading pdfminer.six-20231228-py3-none-any.whl (5.6 MB)\n",
            "\u001b[2K   \u001b[90m━━━━━━━━━━━━━━━━━━━━━━━━━━━━━━━━━━━━━━━━\u001b[0m \u001b[32m5.6/5.6 MB\u001b[0m \u001b[31m48.4 MB/s\u001b[0m eta \u001b[36m0:00:00\u001b[0m\n",
            "\u001b[?25hDownloading pypdfium2-4.30.0-py3-none-manylinux_2_17_x86_64.manylinux2014_x86_64.whl (2.8 MB)\n",
            "\u001b[2K   \u001b[90m━━━━━━━━━━━━━━━━━━━━━━━━━━━━━━━━━━━━━━━━\u001b[0m \u001b[32m2.8/2.8 MB\u001b[0m \u001b[31m42.7 MB/s\u001b[0m eta \u001b[36m0:00:00\u001b[0m\n",
            "\u001b[?25hInstalling collected packages: pypdfium2, pdfminer.six, pdfplumber\n",
            "Successfully installed pdfminer.six-20231228 pdfplumber-0.11.4 pypdfium2-4.30.0\n"
          ]
        }
      ],
      "source": [
        "!pip install pdfplumber transformers\n"
      ]
    },
    {
      "cell_type": "code",
      "source": [
        "from google.colab import files\n",
        "uploaded = files.upload()\n"
      ],
      "metadata": {
        "colab": {
          "base_uri": "https://localhost:8080/",
          "height": 73
        },
        "id": "oRDm4ipKv_cH",
        "outputId": "03a422ba-ac54-43dc-ff95-79739e04e796"
      },
      "execution_count": 2,
      "outputs": [
        {
          "output_type": "display_data",
          "data": {
            "text/plain": [
              "<IPython.core.display.HTML object>"
            ],
            "text/html": [
              "\n",
              "     <input type=\"file\" id=\"files-142a73ca-d36d-44f9-8619-cfbdef4f44a7\" name=\"files[]\" multiple disabled\n",
              "        style=\"border:none\" />\n",
              "     <output id=\"result-142a73ca-d36d-44f9-8619-cfbdef4f44a7\">\n",
              "      Upload widget is only available when the cell has been executed in the\n",
              "      current browser session. Please rerun this cell to enable.\n",
              "      </output>\n",
              "      <script>// Copyright 2017 Google LLC\n",
              "//\n",
              "// Licensed under the Apache License, Version 2.0 (the \"License\");\n",
              "// you may not use this file except in compliance with the License.\n",
              "// You may obtain a copy of the License at\n",
              "//\n",
              "//      http://www.apache.org/licenses/LICENSE-2.0\n",
              "//\n",
              "// Unless required by applicable law or agreed to in writing, software\n",
              "// distributed under the License is distributed on an \"AS IS\" BASIS,\n",
              "// WITHOUT WARRANTIES OR CONDITIONS OF ANY KIND, either express or implied.\n",
              "// See the License for the specific language governing permissions and\n",
              "// limitations under the License.\n",
              "\n",
              "/**\n",
              " * @fileoverview Helpers for google.colab Python module.\n",
              " */\n",
              "(function(scope) {\n",
              "function span(text, styleAttributes = {}) {\n",
              "  const element = document.createElement('span');\n",
              "  element.textContent = text;\n",
              "  for (const key of Object.keys(styleAttributes)) {\n",
              "    element.style[key] = styleAttributes[key];\n",
              "  }\n",
              "  return element;\n",
              "}\n",
              "\n",
              "// Max number of bytes which will be uploaded at a time.\n",
              "const MAX_PAYLOAD_SIZE = 100 * 1024;\n",
              "\n",
              "function _uploadFiles(inputId, outputId) {\n",
              "  const steps = uploadFilesStep(inputId, outputId);\n",
              "  const outputElement = document.getElementById(outputId);\n",
              "  // Cache steps on the outputElement to make it available for the next call\n",
              "  // to uploadFilesContinue from Python.\n",
              "  outputElement.steps = steps;\n",
              "\n",
              "  return _uploadFilesContinue(outputId);\n",
              "}\n",
              "\n",
              "// This is roughly an async generator (not supported in the browser yet),\n",
              "// where there are multiple asynchronous steps and the Python side is going\n",
              "// to poll for completion of each step.\n",
              "// This uses a Promise to block the python side on completion of each step,\n",
              "// then passes the result of the previous step as the input to the next step.\n",
              "function _uploadFilesContinue(outputId) {\n",
              "  const outputElement = document.getElementById(outputId);\n",
              "  const steps = outputElement.steps;\n",
              "\n",
              "  const next = steps.next(outputElement.lastPromiseValue);\n",
              "  return Promise.resolve(next.value.promise).then((value) => {\n",
              "    // Cache the last promise value to make it available to the next\n",
              "    // step of the generator.\n",
              "    outputElement.lastPromiseValue = value;\n",
              "    return next.value.response;\n",
              "  });\n",
              "}\n",
              "\n",
              "/**\n",
              " * Generator function which is called between each async step of the upload\n",
              " * process.\n",
              " * @param {string} inputId Element ID of the input file picker element.\n",
              " * @param {string} outputId Element ID of the output display.\n",
              " * @return {!Iterable<!Object>} Iterable of next steps.\n",
              " */\n",
              "function* uploadFilesStep(inputId, outputId) {\n",
              "  const inputElement = document.getElementById(inputId);\n",
              "  inputElement.disabled = false;\n",
              "\n",
              "  const outputElement = document.getElementById(outputId);\n",
              "  outputElement.innerHTML = '';\n",
              "\n",
              "  const pickedPromise = new Promise((resolve) => {\n",
              "    inputElement.addEventListener('change', (e) => {\n",
              "      resolve(e.target.files);\n",
              "    });\n",
              "  });\n",
              "\n",
              "  const cancel = document.createElement('button');\n",
              "  inputElement.parentElement.appendChild(cancel);\n",
              "  cancel.textContent = 'Cancel upload';\n",
              "  const cancelPromise = new Promise((resolve) => {\n",
              "    cancel.onclick = () => {\n",
              "      resolve(null);\n",
              "    };\n",
              "  });\n",
              "\n",
              "  // Wait for the user to pick the files.\n",
              "  const files = yield {\n",
              "    promise: Promise.race([pickedPromise, cancelPromise]),\n",
              "    response: {\n",
              "      action: 'starting',\n",
              "    }\n",
              "  };\n",
              "\n",
              "  cancel.remove();\n",
              "\n",
              "  // Disable the input element since further picks are not allowed.\n",
              "  inputElement.disabled = true;\n",
              "\n",
              "  if (!files) {\n",
              "    return {\n",
              "      response: {\n",
              "        action: 'complete',\n",
              "      }\n",
              "    };\n",
              "  }\n",
              "\n",
              "  for (const file of files) {\n",
              "    const li = document.createElement('li');\n",
              "    li.append(span(file.name, {fontWeight: 'bold'}));\n",
              "    li.append(span(\n",
              "        `(${file.type || 'n/a'}) - ${file.size} bytes, ` +\n",
              "        `last modified: ${\n",
              "            file.lastModifiedDate ? file.lastModifiedDate.toLocaleDateString() :\n",
              "                                    'n/a'} - `));\n",
              "    const percent = span('0% done');\n",
              "    li.appendChild(percent);\n",
              "\n",
              "    outputElement.appendChild(li);\n",
              "\n",
              "    const fileDataPromise = new Promise((resolve) => {\n",
              "      const reader = new FileReader();\n",
              "      reader.onload = (e) => {\n",
              "        resolve(e.target.result);\n",
              "      };\n",
              "      reader.readAsArrayBuffer(file);\n",
              "    });\n",
              "    // Wait for the data to be ready.\n",
              "    let fileData = yield {\n",
              "      promise: fileDataPromise,\n",
              "      response: {\n",
              "        action: 'continue',\n",
              "      }\n",
              "    };\n",
              "\n",
              "    // Use a chunked sending to avoid message size limits. See b/62115660.\n",
              "    let position = 0;\n",
              "    do {\n",
              "      const length = Math.min(fileData.byteLength - position, MAX_PAYLOAD_SIZE);\n",
              "      const chunk = new Uint8Array(fileData, position, length);\n",
              "      position += length;\n",
              "\n",
              "      const base64 = btoa(String.fromCharCode.apply(null, chunk));\n",
              "      yield {\n",
              "        response: {\n",
              "          action: 'append',\n",
              "          file: file.name,\n",
              "          data: base64,\n",
              "        },\n",
              "      };\n",
              "\n",
              "      let percentDone = fileData.byteLength === 0 ?\n",
              "          100 :\n",
              "          Math.round((position / fileData.byteLength) * 100);\n",
              "      percent.textContent = `${percentDone}% done`;\n",
              "\n",
              "    } while (position < fileData.byteLength);\n",
              "  }\n",
              "\n",
              "  // All done.\n",
              "  yield {\n",
              "    response: {\n",
              "      action: 'complete',\n",
              "    }\n",
              "  };\n",
              "}\n",
              "\n",
              "scope.google = scope.google || {};\n",
              "scope.google.colab = scope.google.colab || {};\n",
              "scope.google.colab._files = {\n",
              "  _uploadFiles,\n",
              "  _uploadFilesContinue,\n",
              "};\n",
              "})(self);\n",
              "</script> "
            ]
          },
          "metadata": {}
        },
        {
          "output_type": "stream",
          "name": "stdout",
          "text": [
            "Saving SJS Transcript Call.pdf to SJS Transcript Call.pdf\n"
          ]
        }
      ]
    },
    {
      "cell_type": "code",
      "source": [
        "import pdfplumber\n",
        "\n",
        "# Function to extract text from the uploaded PDF file\n",
        "def extract_text_from_pdf(pdf_path):\n",
        "    text = \"\"\n",
        "    with pdfplumber.open(pdf_path) as pdf:\n",
        "        for page in pdf.pages:\n",
        "            if page.extract_text():  # Check if the page has text\n",
        "                text += page.extract_text() + \"\\n\"\n",
        "    return text\n",
        "\n",
        "# Extract text from the uploaded file\n",
        "pdf_path = next(iter(uploaded))  # Get the uploaded file name\n",
        "pdf_text = extract_text_from_pdf(pdf_path)\n",
        "\n",
        "# Print the first 1000 characters for verification\n",
        "print(\"Extracted Text:\")\n",
        "print(pdf_text[:1000])\n"
      ],
      "metadata": {
        "colab": {
          "base_uri": "https://localhost:8080/"
        },
        "id": "BV7Ht1rAxI8X",
        "outputId": "9702afc2-a78f-40a8-ed2f-9da5141ef498"
      },
      "execution_count": 3,
      "outputs": [
        {
          "output_type": "stream",
          "name": "stdout",
          "text": [
            "Extracted Text:\n",
            "August 03, 2023\n",
            "To,\n",
            "National Stock Exchange of India Limited BSE Limited\n",
            "Exchange Plaza, 5th Floor, Corporate Relationship Department,\n",
            "Plot No. C/1, G Block, 2nd Floor, New Trading Wing,\n",
            "Bandra – Kurla Complex, Rotunda Building, P.J. Towers,\n",
            "Bandra (E), Mumbai -400 051 Dalal Street, Mumbai – 400 001\n",
            "Symbol: SJS Scrip Code: 543387\n",
            "ISIN: INE284S01014\n",
            "Dear Sir/Madam,\n",
            "Subject: Transcripts of Analysts/Investor Meet/ Earnings Call of the Company pertaining to Q1 of FY\n",
            "2023-24\n",
            "Please find enclosed the transcripts of the Analysts/Investor Meet/ Earnings Call of Q1 FY 2023-24 held\n",
            "on July 27, 2023.\n",
            "You are requested to kindly take the same on record.\n",
            "Thanking you.\n",
            "Yours faithfully,\n",
            "For S.J.S. Enterprises Limited\n",
            "_______________________\n",
            "Thabraz Hushain W.\n",
            "Company Secretary and Compliance Officer\n",
            "Membership No.: A51119\n",
            "Encl: As above\n",
            "SJS Enterprises Limited\n",
            "Q1 FY2024 Earnings Conference Call\n",
            "July 27, 2023\n",
            "ANALYST: MR. RONAK MEHTA – JM FINANCIAL\n",
            "MANAGEMENT: MR. K.A. JOSEPH – MANAGING DIRECTOR & CO\n"
          ]
        }
      ]
    },
    {
      "cell_type": "code",
      "source": [
        "from transformers import pipeline\n",
        "\n",
        "# Function to summarize the extracted text\n",
        "def summarize_text(text, max_chunk_size=1000):\n",
        "    summarizer = pipeline(\"summarization\")\n",
        "    chunks = [text[i:i+max_chunk_size] for i in range(0, len(text), max_chunk_size)]\n",
        "    summaries = [summarizer(chunk, max_length=150, min_length=30, do_sample=False)[0]['summary_text'] for chunk in chunks]\n",
        "    return \" \".join(summaries)\n",
        "\n",
        "# Summarize the extracted text\n",
        "summary = summarize_text(pdf_text)\n",
        "print(\"\\nSummary for Investors:\")\n",
        "print(summary)\n"
      ],
      "metadata": {
        "colab": {
          "base_uri": "https://localhost:8080/"
        },
        "id": "9SEegq1RxSDM",
        "outputId": "162d63fc-0a65-4f96-beaa-6cb1100a491b"
      },
      "execution_count": 5,
      "outputs": [
        {
          "output_type": "stream",
          "name": "stderr",
          "text": [
            "No model was supplied, defaulted to sshleifer/distilbart-cnn-12-6 and revision a4f8f3e (https://huggingface.co/sshleifer/distilbart-cnn-12-6).\n",
            "Using a pipeline without specifying a model name and revision in production is not recommended.\n"
          ]
        },
        {
          "output_type": "stream",
          "name": "stdout",
          "text": [
            "\n",
            "Summary for Investors:\n",
            " Transcripts of Analysts/Investor Meet/ Earnings Call of the Company pertaining to Q1 of FY2023-24 are enclosed . S.J.S. Enterprises Limited held the call on July 27, 2023 .  SJS Enterprises' 1Q FY24 Earnings Call is hosted by JM Financial . All participant lines will be in the listen-only mode and there will be an opportunity to ask questions after the presentation concludes .  Mr. K A Joseph, our M.D. and Co-Founder, will make the opening remarks and brief you all about our latest acquisition, Walter Pack India's Performance . Then he will hand it over to Mr. Sanjay Thapar – our CEO and Executive Director, who will take you through some of the presentation slides .  The duration of this call will be around 60 minutes and we will try to wrap up our comments in about 20 minutes . And Mr. Mahendra Naredi – our CFO, will update you on our financial highlights and post which we will open it up for Q&A .  Inorganic acquisitions will continue to be SJS' core strategy going forward, says CEO . Walter Pack acquisition has opened up a plethora of new opportunities for SJS . 36% revenue contribution would be from two wheelers, 36% from passenger vehicles .  With Walter Pack acquisition, we have not only acquired a very large growth and high margin business at a good valuation, but at the same time achieved many key strategic objectives in terms of addition of new and emerging technologies, new customers, manufacturing capabilities and increase management bandwidth .  For FY24 only nine months financials of Walter Pack India will be consolidated with SJS financials . For the first quarter, SJS outperformed the automotive industry for the 15th consecutive quarter . The automotive segment has grown well for us both in the domestic market at 14.2% YoY .  SJS has been consistently growing ahead of the industry and this quarter is no different . In Q1, the two wheeler industry production grew 1.3% YoY while SJS consolidated two-wheeler sales grew by 15% .  Overall consolidated SJS sales grew by 13.6% year-on-year, partially impacted on account of slow recovery in consumer appliances segment and some degrowth in farm equipment segment .  This bounce back in export revenue will definitely help us grow further and it reinstates our belief that exports will be one of the core growth drivers for our company in the future . We continue to expand our wallet share by winning new businesses from key customers like Mahindra, TVS, Visteon, Hyundai, Bajaj Auto Continental, Honda Motorcycles & Scooters amongst others .  Revenue at Rs.1,172.5 million has increased at 13.6% YoY on the back of strong growth in automotive segment and exports . SJS witnessed 14.2% growth in the domestic front, however, however .  Exports during this quarter grew by 90.8% on YoY basis on account of new business wins and gradual export market recovery . Domestic sales outperformed the underlying automotive industry growth .  Proforma financial of SJS for Q1 FY24 by including Walter Pack India numbers are not reflected in that consolidated financial report for this quarter, but from Q2 onwards, WPI financial will be consolidated with the SJS numbers, basis our 90.1% stake in Walter Pack .  Pro forma EBITDA margin were at 27.3%, witnessing 120 bps margin expansion as compared to Q1 FY24 reported margin . This would result in a PAT growth of 52.1% and EPS growth of 51.8% YoY .  The company has deferred its chrome plating capacity expansion CAPEX plan by a year to calendar year '24 . The company is increasing its global presence, introduction of new technology products and building mega-customer accounts .  For the period FY24 to 26, we maintain our stance of 20% to 25% organic growth . We are also partnering with external chrome plating suppliers to utilize the excess capacity creating a win-win situation for both parties .  SJS is also working on a few new age products like optical plastics and cover glass, which will further drive up the kit value that we supply to customers . We are confident that even in the future, any acquisition we do, will open up a new possibility for us to achieve higher business growth .  SJS will post consolidating at 90.1% stake in Walter Pack for a nine month period in this financial year . The company is now open to answer any questions that you would have about 40% PAT growth .  Mahendra Naredi: We understand that Exotech margins on QoQ has slightly dropped, possibly due to new products development, trial runs and etc., So wanted to understand what could be the sustainable annual margin and where do you see it in the next three years?  Devanshi Dhruva: In the last two years, Exotech has already improved margins by around 300 bps and last year it was around 15%. We hope to continue this and 14% to 15% right now would be sustainable margins at least in the medium term .  There's a lot of synergy between Walter Pack and Exotech in terms of injection molding, among other things . To meet that demand we planned a CAPEX CAPEX. n by cross selling Exotech products to existing customers . So we just deferred that investment by one year .  Devanshi Dhruva: For this year FY24, SJS would be somewhere around 10-12 crores and Exotech would be another 10- 12 crores . Overall CAPEX for this year would be around Rs 34 - 35 crores. It would be better to chart out a new plan so that both Exotech and WPI requirements are met .  Mahendra Naredi: \"In an outsourcing model, the raw material cost Is going up. But at the same time, the manufacturing, the admin and employee cost will not increase to that extent\"  Sanjay Thapar: No, nothing. Absolutely, we are on track. It's only a smarter way of doing things. And we already have a very, very strong trajectory of customer demand for Exotech. So everything goes as per plan .  Walter Pack India has done this quarter 356 million sales turnover with an EBITDA of 31.5% Mahendra Naredi: \"We are always referring that we will maintain our growth rate of 20% to 25%\"  The in-mold forming technology that Walter Pack has, they have very strong knowledge on tooling and in fact there are very few companies in the world which has that expertise . There is a trend of using IME and there are a trend to use also electronics and inside the ambient lighting of the car .  Devanshi Dhruva: For FY24, as we have guided last time also, overall consol growth including WPI will be 50% . Organic growth of SJS and Exotech. will grow at about 20% to 25% organically. And Walter Pack also growing at that. This year they'll grow a little faster .  Customers for whom SJS was a tier-2 supplier earlier, now becomes tier-1 post WPI acquisition . SJS has won a lot of new order worth about 30 to 40 crores for FY25, says K.A. Joseph .  The IML and IMD technology that we have to offer, IME will piggyback on this, will find a lot of demand when the customer sees this. eeler OEMs. So companies like Bajaj, Royal Enfield, Honda etc. are in the process of telling them what we could do with IME technology that could improve aesthetics, especially for the plastics forming assemblies of bikes. So I see the synergy playing out extremely well in terms of how growth at Walter Pack will come .  There will be a lot of cross selling opportunities between Exotech and Walter Pack also because both companies have customers which can be used for cross-selling opportunities like Mahindra is there, Exotech, we have Maruti and Tata Motors with Maruti .  SJS has grown because customers wanted us to grow, says Mahendra . With Autoliv, we won a large order of parts for the India market, but then once we deliver these parts to their satisfaction, we will certainly be having a conversation with them to let's take it to global. obal companies in the Indian market and then use the goodwill that we've generated in terms of capability demonstration to reach the global network.  Devanshi Dhruva: Other expenses have increased on account of two reasons . WPI revenue for this quarter grew 21% YoY to Rs 356 million .  Sanjay Thapar: The applications are quite diverse, so we are looking at the two wheelers, we're looking at roughly four wheelers . LEDs are going to be implanted in the functionallayer and that is going to make it, let's say, phase-I of IME you may. is still under development .  Exotech sales quarter-on-quarter was also slightly done. So my expectation is that it would be another 2-3 years before you're seeing real life IME part coming in. The other part is that Walter Pack has IME technology. We have a technology support agreement with Walter Pack Spain and Walter Pack will be our technology partner .  Exotech this year grew a little lower because the farm equipment demand was soft . Exotech is an important customer of John Deere, who export parts to North America . The demand for Q2 remains robust and we hope to achieve our sales growth trajectory at Exotech .  Shrinjana Mittal: Going forward like for the year organically we are guiding for around 20%, 25% only for export business . Sanjay Thapar: We don't provide guidance specifically, but as I said earlier in my commentary, on QoQ basis, exports has jumped up double, about 90% growth overall, this last quarter versus the quarter a year before .  Devanshi Dhruva: Consumer durables was a little muted growth; I would say almost about about 2% - 3% and overall as a percent of sales, it was somewhere around 15% - 16% of our sales .  Sanjay Thapar: Consumer durables is a very important segment for us and we have made further inroads by acquiring Walter Pack . The SJS product portfolio has very bright potential because we're underpenetrated in North America as I mentioned earlier. So we are making inroads. In Southwestern America we've already seen the results. We will add to our feet on the ground in North American America and Europe to accelerate that further.  Devanshi Dhruva: Overall, I think we will continue to grow at about 20% - 25% as we guided earlier in terms of the mid-term growth guidance that we have given .  Devanshi Dhruva: Almost 90% of our order book is confirmed for FY24 overall overall . SJS Enterprises will keep on increasing global presence as well as customer spread in consumer appliances .  WPI supplies to Tata Motors and we supply to Tata Motor as well . But our content is much smaller. WPI are very large parts contributing almost about Rs.2,500 to Rs.3,500 content per vehicle . There are a lot of cross selling opportunities that exist because we will not cannibalize the business .  Mahendra Naredi: Earlier the technical fees paid by Walter Pack was in the range of 3.5% of the sales value . Sanjay Thapar: As I mentioned earlier, so we are in a transformation stage, think of it as the whole entity .  In our last earnings call, I mentioned that we will be acceleratingour growth footprint. ll these three businesses put together for us. As I said, we are entering many new exciting areas like optical plastics, cover glass, which we will do for the first time. We are not so worried about EBITDA because we have a very consistent trackorativetrack record.  Mahendra Naredi: New generation products are new generation products that may impact margins in the short term . Another is when we made the acquisition of Walter Pack, we have taken the loans for that. Another is the interest cost on that plus our internal accrual or our cash balance has been used to fund this acquisition which was earlier generating income and now this income will be very negligible income in FY24 .  Sanjay Thapar: There is a technology support agreement that is available to us. There is also, as I mentioned earlier, theIME technology that we will ride on that is something that we'll do. So primarily, growth, I think we are very, very clear that there is going to be  growth. omestic and exports?  Walter Pack is not existent in many of the customers that SJS already has a strong relationship with. So cross selling, exports and penetrating the Indian market faster with new technology products like IME. So those are the growth vectors for Walter.com going forward.  Devanshi Dhruva: Currently, we are at a capacity utilization of 60% to 70% and we can generate revenue close to Rs.200 crores .  SJS is almost providing the aesthetics to almost every two wheeler OEM, except for Hero . It's a request if the team can provide WPI's financials separately, please?  Sanjay Thapar: \"The ball is not in my court, it is in Hero's court. So they have to take a call as to when to start buying us\"  Sanjay Thapar: \"Our specialty is make long lasting durable aesthetic parts\" He says TV opportunity is \"waiting-and-watch\" for now .  Management will examine as we have discussions with the customers to see what more is possible . If any of the questions were left unanswered, please reach out to us and we'll answer it to the best of our abilities .\n"
          ]
        }
      ]
    }
  ]
}